{
 "cells": [
  {
   "cell_type": "code",
   "execution_count": 18,
   "metadata": {},
   "outputs": [],
   "source": [
    "# Dependencies\n",
    "import requests\n",
    "import json\n",
    "from config import api_key"
   ]
  },
  {
   "cell_type": "code",
   "execution_count": 19,
   "metadata": {},
   "outputs": [],
   "source": [
    "# Build query URL and request your results in Celsius\n",
    "base_url = \"http://api.openweathermap.org/data/2.5/weather?\"\n",
    "city = 'Dallas'\n",
    "temperature = \"metric\"\n",
    "query_url = base_url + \"appid=\" + api_key + \"&q=\" + city + \"&units=\" + temperature\n",
    "\n",
    "# Get weather data\n",
    "weather_response = requests.get(query_url)\n",
    "weather_json = weather_response.json()"
   ]
  },
  {
   "cell_type": "code",
   "execution_count": 20,
   "metadata": {},
   "outputs": [
    {
     "name": "stdout",
     "output_type": "stream",
     "text": [
      "The weather API responded with: {'coord': {'lon': -96.7836, 'lat': 32.7668}, 'weather': [{'id': 801, 'main': 'Clouds', 'description': 'few clouds', 'icon': '02d'}], 'base': 'stations', 'main': {'temp': 11.63, 'feels_like': 10.08, 'temp_min': 11.11, 'temp_max': 12.22, 'pressure': 1022, 'humidity': 47}, 'visibility': 10000, 'wind': {'speed': 5.66, 'deg': 10, 'gust': 11.83}, 'clouds': {'all': 20}, 'dt': 1618964022, 'sys': {'type': 1, 'id': 3783, 'country': 'US', 'sunrise': 1618919466, 'sunset': 1618966826}, 'timezone': -18000, 'id': 4684904, 'name': 'Dallas', 'cod': 200}.\n"
     ]
    }
   ],
   "source": [
    "# Get temperature from JSON response\n",
    "print(f\"The weather API responded with: {weather_json}.\")"
   ]
  },
  {
   "cell_type": "code",
   "execution_count": 26,
   "metadata": {},
   "outputs": [
    {
     "name": "stdout",
     "output_type": "stream",
     "text": [
      "The temperature in Dallas is 11.63°C but feels like 10.08°C\n"
     ]
    }
   ],
   "source": [
    "# Report temperature\n",
    "print(f'The temperature in {city} is {weather_json[\"main\"][\"temp\"]}°C but feels like {weather_json[\"main\"][\"feels_like\"]}°C')"
   ]
  },
  {
   "cell_type": "code",
   "execution_count": 30,
   "metadata": {},
   "outputs": [
    {
     "name": "stdout",
     "output_type": "stream",
     "text": [
      "The temperature in Dallas is 52.07°F but feels like 49.19°F\n",
      "The temperature in Dallas is 11.15°C but feels like 9.55°C\n"
     ]
    }
   ],
   "source": [
    "#BONUS: get both Celsius and Farenheit\n",
    "base_url = \"http://api.openweathermap.org/data/2.5/weather?\"\n",
    "city = 'Dallas'\n",
    "temperature = [\"imperial\",\"metric\"]\n",
    "\n",
    "#Farenheit\n",
    "query_url1 = base_url + \"appid=\" + api_key + \"&q=\" + city + \"&units=\" + temperature[0]\n",
    "weather_response1 = requests.get(query_url1)\n",
    "weather_json1 = weather_response1.json()\n",
    "\n",
    "#Celsius\n",
    "query_url2 = base_url + \"appid=\" + api_key + \"&q=\" + city + \"&units=\" + temperature[1]\n",
    "weather_response2 = requests.get(query_url2)\n",
    "weather_json2 = weather_response2.json()\n",
    "\n",
    "# Report temperatures\n",
    "print(f'The temperature in {city} is {weather_json1[\"main\"][\"temp\"]}°F but feels like {weather_json1[\"main\"][\"feels_like\"]}°F')\n",
    "print(f'The temperature in {city} is {weather_json2[\"main\"][\"temp\"]}°C but feels like {weather_json2[\"main\"][\"feels_like\"]}°C')"
   ]
  },
  {
   "cell_type": "code",
   "execution_count": null,
   "metadata": {},
   "outputs": [],
   "source": []
  }
 ],
 "metadata": {
  "kernelspec": {
   "display_name": "Python 3",
   "language": "python",
   "name": "python3"
  },
  "language_info": {
   "codemirror_mode": {
    "name": "ipython",
    "version": 3
   },
   "file_extension": ".py",
   "mimetype": "text/x-python",
   "name": "python",
   "nbconvert_exporter": "python",
   "pygments_lexer": "ipython3",
   "version": "3.6.10"
  },
  "varInspector": {
   "cols": {
    "lenName": 16,
    "lenType": 16,
    "lenVar": 40
   },
   "kernels_config": {
    "python": {
     "delete_cmd_postfix": "",
     "delete_cmd_prefix": "del ",
     "library": "var_list.py",
     "varRefreshCmd": "print(var_dic_list())"
    },
    "r": {
     "delete_cmd_postfix": ") ",
     "delete_cmd_prefix": "rm(",
     "library": "var_list.r",
     "varRefreshCmd": "cat(var_dic_list()) "
    }
   },
   "types_to_exclude": [
    "module",
    "function",
    "builtin_function_or_method",
    "instance",
    "_Feature"
   ],
   "window_display": false
  }
 },
 "nbformat": 4,
 "nbformat_minor": 2
}
