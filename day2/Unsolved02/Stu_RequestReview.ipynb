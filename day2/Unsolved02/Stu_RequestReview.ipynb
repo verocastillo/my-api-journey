{
 "cells": [
  {
   "cell_type": "code",
   "execution_count": 1,
   "metadata": {},
   "outputs": [],
   "source": [
    "# Dependencies\n",
    "import json\n",
    "import requests "
   ]
  },
  {
   "cell_type": "code",
   "execution_count": 2,
   "metadata": {},
   "outputs": [],
   "source": [
    "# Specify the URL\n",
    "url = 'http://nyt-mongo-scraper.herokuapp.com/api/headlines'\n",
    "# Make request and store response\n",
    "response = requests.get(url)"
   ]
  },
  {
   "cell_type": "code",
   "execution_count": 18,
   "metadata": {},
   "outputs": [
    {
     "name": "stdout",
     "output_type": "stream",
     "text": [
      "[\n",
      "  {\n",
      "    \"saved\": false,\n",
      "    \"_id\": \"607f55e09ec2d600151cb6c4\",\n",
      "    \"headline\": \"How I\\u2019m Talking to My Kids About the Derek Chauvin Verdict\",\n",
      "    \"summary\": \"We must walk a fine line between truth and hope.\",\n",
      "    \"url\": \"https://www.nytimes.com/2021/04/20/opinion/derek-chauvin-verdict-floyd.html\",\n",
      "    \"date\": \"2021-04-20T22:29:52.640Z\",\n",
      "    \"__v\": 0\n",
      "  },\n",
      "  {\n",
      "    \"saved\": false,\n",
      "    \"_id\": \"607efdc99ec2d600151cb6c0\",\n",
      "    \"headline\": \"There Could Never Be a Female Andrew Yang\",\n",
      "    \"summary\": \"No woman with his r\\u00e9sum\\u00e9 would have a chance of becoming New York\\u2019s mayor.\",\n",
      "    \"url\": \"https://www.nytimes.com/2021/04/19/opinion/nyc-mayor-andrew-yang.html\",\n",
      "    \"date\": \"2021-04-20T16:14:01.479Z\",\n",
      "    \"__v\": 0\n",
      "  }\n",
      "]\n"
     ]
    }
   ],
   "source": [
    "# JSON-ify response\n",
    "data= response.json()\n",
    "print(json.dumps(data,indent=2))"
   ]
  },
  {
   "cell_type": "code",
   "execution_count": 16,
   "metadata": {
    "scrolled": true
   },
   "outputs": [
    {
     "name": "stdout",
     "output_type": "stream",
     "text": [
      "First article: How I’m Talking to My Kids About the Derek Chauvin Verdict.\n",
      "Last article: There Could Never Be a Female Andrew Yang.\n"
     ]
    }
   ],
   "source": [
    "# Print first and last articles\n",
    "print(f'First article: {data[0][\"headline\"]}.')\n",
    "print(f'Last article: {data[1][\"headline\"]}.')"
   ]
  },
  {
   "cell_type": "code",
   "execution_count": 17,
   "metadata": {},
   "outputs": [
    {
     "name": "stdout",
     "output_type": "stream",
     "text": [
      "2 responses were received.\n"
     ]
    }
   ],
   "source": [
    "#Print the number of responses received.\n",
    "print(f'{len(data)} responses were received.')"
   ]
  },
  {
   "cell_type": "code",
   "execution_count": null,
   "metadata": {},
   "outputs": [],
   "source": []
  }
 ],
 "metadata": {
  "kernelspec": {
   "display_name": "Python 3",
   "language": "python",
   "name": "python3"
  },
  "language_info": {
   "codemirror_mode": {
    "name": "ipython",
    "version": 3
   },
   "file_extension": ".py",
   "mimetype": "text/x-python",
   "name": "python",
   "nbconvert_exporter": "python",
   "pygments_lexer": "ipython3",
   "version": "3.6.10"
  },
  "varInspector": {
   "cols": {
    "lenName": 16,
    "lenType": 16,
    "lenVar": 40
   },
   "kernels_config": {
    "python": {
     "delete_cmd_postfix": "",
     "delete_cmd_prefix": "del ",
     "library": "var_list.py",
     "varRefreshCmd": "print(var_dic_list())"
    },
    "r": {
     "delete_cmd_postfix": ") ",
     "delete_cmd_prefix": "rm(",
     "library": "var_list.r",
     "varRefreshCmd": "cat(var_dic_list()) "
    }
   },
   "types_to_exclude": [
    "module",
    "function",
    "builtin_function_or_method",
    "instance",
    "_Feature"
   ],
   "window_display": false
  }
 },
 "nbformat": 4,
 "nbformat_minor": 2
}
