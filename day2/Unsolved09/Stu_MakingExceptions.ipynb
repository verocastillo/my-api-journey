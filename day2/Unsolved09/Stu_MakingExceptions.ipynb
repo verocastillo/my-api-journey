{
 "cells": [
  {
   "cell_type": "code",
   "execution_count": 6,
   "metadata": {},
   "outputs": [
    {
     "name": "stdout",
     "output_type": "stream",
     "text": [
      "Let's see what this code does\n",
      "Oops, you can't divide by zero!\n",
      "You want to print a name? We don't know the name though!\n",
      "Now you just tried to print an integer from a string, what?\n",
      "This code was a mess, however...\n",
      "You made it through the gauntlet--the message survived!\n"
     ]
    }
   ],
   "source": [
    "# Your assignment is to get the last line to print without changing any\n",
    "# of the code below. Instead, wrap each line that throws an error in a\n",
    "# try/except block.\n",
    "print(\"Let's see what this code does\")\n",
    "try:\n",
    "    print(\"Infinity looks like + \" + str(10 / 0) + \".\")\n",
    "except ZeroDivisionError:\n",
    "    print(\"Oops, you can't divide by zero!\")\n",
    "try:\n",
    "    print(\"I think her name was + \" + name + \"?\")\n",
    "except NameError:\n",
    "    print(\"You want to print a name? We don't know the name though!\")\n",
    "try:\n",
    "    print(\"Your name is a nonsense number. Look: \" + int(\"Gabriel\"))\n",
    "except ValueError:\n",
    "    print(\"Now you just tried to print an integer from a string, what?\")\n",
    "print(\"This code was a mess, however...\")\n",
    "print(\"You made it through the gauntlet--the message survived!\")"
   ]
  },
  {
   "cell_type": "code",
   "execution_count": null,
   "metadata": {},
   "outputs": [],
   "source": []
  }
 ],
 "metadata": {
  "kernelspec": {
   "display_name": "Python [conda env:mypython1] *",
   "language": "python",
   "name": "conda-env-mypython1-py"
  },
  "language_info": {
   "codemirror_mode": {
    "name": "ipython",
    "version": 3
   },
   "file_extension": ".py",
   "mimetype": "text/x-python",
   "name": "python",
   "nbconvert_exporter": "python",
   "pygments_lexer": "ipython3",
   "version": "3.6.10"
  }
 },
 "nbformat": 4,
 "nbformat_minor": 2
}
