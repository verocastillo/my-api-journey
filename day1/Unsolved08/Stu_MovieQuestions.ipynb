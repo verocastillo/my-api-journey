{
 "cells": [
  {
   "cell_type": "code",
   "execution_count": 7,
   "metadata": {},
   "outputs": [],
   "source": [
    "# Dependencies\n",
    "import requests\n",
    "import json\n",
    "from config import api_key\n",
    "from pprint import pprint\n",
    "\n",
    "movie = \"tbd\"\n",
    "url = f\"http://www.omdbapi.com/&t={movie}?apikey={api_key}\""
   ]
  },
  {
   "cell_type": "code",
   "execution_count": 11,
   "metadata": {},
   "outputs": [
    {
     "name": "stdout",
     "output_type": "stream",
     "text": [
      "The director of the movie Aliens was James Cameron\n"
     ]
    }
   ],
   "source": [
    "# Who was the director of the movie Aliens?\n",
    "movie = \"Aliens\"\n",
    "url = f\"http://www.omdbapi.com/?t={movie}&apikey={api_key}\"\n",
    "response1 = requests.get(url)\n",
    "data1 = response1.json()\n",
    "director1 = data1['Director']\n",
    "print(f'The director of the movie {movie} was {director1}')"
   ]
  },
  {
   "cell_type": "code",
   "execution_count": 13,
   "metadata": {
    "scrolled": true
   },
   "outputs": [
    {
     "name": "stdout",
     "output_type": "stream",
     "text": [
      "The movie Gladiator was rated R\n"
     ]
    }
   ],
   "source": [
    "# What was the movie Gladiator rated?\n",
    "movie = \"Gladiator\"\n",
    "url = f\"http://www.omdbapi.com/?t={movie}&apikey={api_key}\"\n",
    "response2 = requests.get(url)\n",
    "data2 = response2.json()\n",
    "rated2 = data2['Rated']\n",
    "print(f'The movie {movie} was rated {rated2}')"
   ]
  },
  {
   "cell_type": "code",
   "execution_count": 17,
   "metadata": {},
   "outputs": [
    {
     "name": "stdout",
     "output_type": "stream",
     "text": [
      "The movie 50 First Dates was released in 2004\n"
     ]
    }
   ],
   "source": [
    "# What year was 50 First Dates released?\n",
    "movie = \"50+First+Dates\"\n",
    "url = f\"http://www.omdbapi.com/?t={movie}&apikey={api_key}\"\n",
    "response3 = requests.get(url)\n",
    "data3 = response3.json()\n",
    "year3 = data3['Year']\n",
    "movie = movie.replace(\"+\",\" \")\n",
    "print(f'The movie {movie} was released in {year3}')"
   ]
  },
  {
   "cell_type": "code",
   "execution_count": 18,
   "metadata": {
    "scrolled": true
   },
   "outputs": [
    {
     "name": "stdout",
     "output_type": "stream",
     "text": [
      "The movie Moana was written by Jared Bush (screenplay by), Ron Clements (story by), John Musker (story by), Chris Williams (story by), Don Hall (story by), Pamela Ribon (story by), Aaron Kandell (story by), Jordan Kandell (story by)\n"
     ]
    }
   ],
   "source": [
    "# Who wrote Moana?\n",
    "movie = \"Moana\"\n",
    "url = f\"http://www.omdbapi.com/?t={movie}&apikey={api_key}\"\n",
    "response4 = requests.get(url)\n",
    "data4 = response4.json()\n",
    "wroteby4 = data4['Writer']\n",
    "print(f'The movie {movie} was written by {wroteby4}')"
   ]
  },
  {
   "cell_type": "code",
   "execution_count": 22,
   "metadata": {
    "scrolled": true
   },
   "outputs": [
    {
     "name": "stdout",
     "output_type": "stream",
     "text": [
      "\"Sing\"\n",
      "Summary: In a city of humanoid animals, a hustling theater impresario's attempt to save his theater with a singing competition becomes grander than he anticipates even as its finalists find that their lives will never be the same.\n"
     ]
    }
   ],
   "source": [
    "# What was the plot of the movie Sing?\n",
    "movie = \"Sing\"\n",
    "url = f\"http://www.omdbapi.com/?t={movie}&apikey={api_key}\"\n",
    "response5 = requests.get(url)\n",
    "data5 = response5.json()\n",
    "plot5 = data5['Plot']\n",
    "print(f'\"{movie}\"')\n",
    "print(f'Summary: {plot5}')"
   ]
  },
  {
   "cell_type": "code",
   "execution_count": null,
   "metadata": {},
   "outputs": [],
   "source": []
  }
 ],
 "metadata": {
  "kernelspec": {
   "display_name": "Python 3",
   "language": "python",
   "name": "python3"
  },
  "language_info": {
   "codemirror_mode": {
    "name": "ipython",
    "version": 3
   },
   "file_extension": ".py",
   "mimetype": "text/x-python",
   "name": "python",
   "nbconvert_exporter": "python",
   "pygments_lexer": "ipython3",
   "version": "3.6.10"
  },
  "varInspector": {
   "cols": {
    "lenName": 16,
    "lenType": 16,
    "lenVar": 40
   },
   "kernels_config": {
    "python": {
     "delete_cmd_postfix": "",
     "delete_cmd_prefix": "del ",
     "library": "var_list.py",
     "varRefreshCmd": "print(var_dic_list())"
    },
    "r": {
     "delete_cmd_postfix": ") ",
     "delete_cmd_prefix": "rm(",
     "library": "var_list.r",
     "varRefreshCmd": "cat(var_dic_list()) "
    }
   },
   "types_to_exclude": [
    "module",
    "function",
    "builtin_function_or_method",
    "instance",
    "_Feature"
   ],
   "window_display": false
  }
 },
 "nbformat": 4,
 "nbformat_minor": 2
}
