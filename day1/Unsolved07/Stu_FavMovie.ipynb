{
 "cells": [
  {
   "cell_type": "code",
   "execution_count": 5,
   "metadata": {},
   "outputs": [],
   "source": [
    "# Dependencies\n",
    "import requests\n",
    "import json\n",
    "from config import api_key\n",
    "from pprint import pprint"
   ]
  },
  {
   "cell_type": "code",
   "execution_count": 6,
   "metadata": {},
   "outputs": [],
   "source": [
    "# Select my favorite movie in OMD format\n",
    "movie = \"The+Two+Towers\""
   ]
  },
  {
   "cell_type": "code",
   "execution_count": 9,
   "metadata": {},
   "outputs": [
    {
     "name": "stdout",
     "output_type": "stream",
     "text": [
      "{'Actors': 'Bruce Allpress, Sean Astin, John Bach, Sala Baker',\n",
      " 'Awards': 'Won 2 Oscars. Another 124 wins & 138 nominations.',\n",
      " 'BoxOffice': '$342,551,365',\n",
      " 'Country': 'New Zealand, USA',\n",
      " 'DVD': '28 Jun 2011',\n",
      " 'Director': 'Peter Jackson',\n",
      " 'Genre': 'Action, Adventure, Drama, Fantasy',\n",
      " 'Language': 'English, Sindarin, Old English',\n",
      " 'Metascore': '87',\n",
      " 'Plot': 'While Frodo and Sam edge closer to Mordor with the help of the '\n",
      "         \"shifty Gollum, the divided fellowship makes a stand against Sauron's \"\n",
      "         'new ally, Saruman, and his hordes of Isengard.',\n",
      " 'Poster': 'https://m.media-amazon.com/images/M/MV5BZGMxZTdjZmYtMmE2Ni00ZTdkLWI5NTgtNjlmMjBiNzU2MmI5XkEyXkFqcGdeQXVyNjU0OTQ0OTY@._V1_SX300.jpg',\n",
      " 'Production': 'New Line Cinema, Saul Zaentz Company',\n",
      " 'Rated': 'PG-13',\n",
      " 'Ratings': [{'Source': 'Internet Movie Database', 'Value': '8.7/10'},\n",
      "             {'Source': 'Rotten Tomatoes', 'Value': '95%'},\n",
      "             {'Source': 'Metacritic', 'Value': '87/100'}],\n",
      " 'Released': '18 Dec 2002',\n",
      " 'Response': 'True',\n",
      " 'Runtime': '179 min',\n",
      " 'Title': 'The Lord of the Rings: The Two Towers',\n",
      " 'Type': 'movie',\n",
      " 'Website': 'N/A',\n",
      " 'Writer': 'J.R.R. Tolkien (novel), Fran Walsh (screenplay), Philippa Boyens '\n",
      "           '(screenplay), Stephen Sinclair (screenplay), Peter Jackson '\n",
      "           '(screenplay)',\n",
      " 'Year': '2002',\n",
      " 'imdbID': 'tt0167261',\n",
      " 'imdbRating': '8.7',\n",
      " 'imdbVotes': '1,496,611'}\n"
     ]
    }
   ],
   "source": [
    "# Get url and convert to json\n",
    "url = f\"http://www.omdbapi.com/?t={movie}&apikey={api_key}\"\n",
    "response = requests.get(url)\n",
    "data = response.json()\n",
    "pprint(data)"
   ]
  },
  {
   "cell_type": "code",
   "execution_count": 15,
   "metadata": {},
   "outputs": [
    {
     "name": "stdout",
     "output_type": "stream",
     "text": [
      "The rating of the movie is PG-13\n",
      "It was a critically acclaimed movie. Won 2 Oscars. Another 124 wins & 138 nominations.\n",
      "It was directed by Peter Jackson\n"
     ]
    }
   ],
   "source": [
    "# Info about the movie\n",
    "rated = data['Rated']\n",
    "print(f'The rating of the movie is {rated}')\n",
    "awards = data['Awards']\n",
    "print(f'It was a critically acclaimed movie. {awards}')\n",
    "director = data['Director']\n",
    "print(f'It was directed by {director}')"
   ]
  },
  {
   "cell_type": "code",
   "execution_count": null,
   "metadata": {},
   "outputs": [],
   "source": []
  }
 ],
 "metadata": {
  "kernelspec": {
   "display_name": "Python 3",
   "language": "python",
   "name": "python3"
  },
  "language_info": {
   "codemirror_mode": {
    "name": "ipython",
    "version": 3
   },
   "file_extension": ".py",
   "mimetype": "text/x-python",
   "name": "python",
   "nbconvert_exporter": "python",
   "pygments_lexer": "ipython3",
   "version": "3.6.10"
  },
  "varInspector": {
   "cols": {
    "lenName": 16,
    "lenType": 16,
    "lenVar": 40
   },
   "kernels_config": {
    "python": {
     "delete_cmd_postfix": "",
     "delete_cmd_prefix": "del ",
     "library": "var_list.py",
     "varRefreshCmd": "print(var_dic_list())"
    },
    "r": {
     "delete_cmd_postfix": ") ",
     "delete_cmd_prefix": "rm(",
     "library": "var_list.r",
     "varRefreshCmd": "cat(var_dic_list()) "
    }
   },
   "types_to_exclude": [
    "module",
    "function",
    "builtin_function_or_method",
    "instance",
    "_Feature"
   ],
   "window_display": false
  }
 },
 "nbformat": 4,
 "nbformat_minor": 2
}
